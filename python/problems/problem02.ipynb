{
 "cells": [
  {
   "cell_type": "markdown",
   "metadata": {},
   "source": [
    "# 모든코인 상승장? 하락장?\n",
    "> 최고가와 최저가의 차이를 변동폭으로 정의할 때 (시가 + 변동폭)이 최고가 보다 높을 경우 \"상승장\", 그렇지 않은 경우 \"하락장\" 문자열을 출력하라.\n",
    "\n",
    "\n",
    "|Key Name|Description|\n",
    "|------|---|\n",
    "|opeing_price|최근 24시간 내 시작 거래금액|\n",
    "|closing_price|최근 24시간 내 마지막 거래금액|\n",
    "|min_price|최근 24시간 내 최저 거래금액|\n",
    "|max_price|최근 24시간 내 최고 거래금액|"
   ]
  },
  {
   "cell_type": "code",
   "execution_count": 1,
   "metadata": {
    "scrolled": false
   },
   "outputs": [],
   "source": [
    "import requests\n",
    "url = \"https://api.bithumb.com/public/ticker/all\"\n",
    "data = requests.get(url).json()['data']\n",
    "# print(data)"
   ]
  },
  {
   "cell_type": "code",
   "execution_count": 2,
   "metadata": {},
   "outputs": [
    {
     "name": "stdout",
     "output_type": "stream",
     "text": [
      "BTC : 상승장\n",
      "ETH : 상승장\n",
      "DASH : 상승장\n",
      "LTC : 상승장\n",
      "ETC : 상승장\n",
      "XRP : 상승장\n",
      "BCH : 상승장\n",
      "XMR : 상승장\n",
      "ZEC : 상승장\n",
      "QTUM : 상승장\n",
      "BTG : 상승장\n",
      "EOS : 상승장\n",
      "ICX : 상승장\n",
      "VET : 상승장\n",
      "TRX : 상승장\n",
      "ELF : 상승장\n",
      "MITH : 상승장\n",
      "MCO : 상승장\n",
      "OMG : 상승장\n",
      "KNC : 상승장\n",
      "GNT : 상승장\n",
      "ZIL : 하락장\n",
      "ETHOS : 상승장\n",
      "PAY : 상승장\n",
      "WAX : 상승장\n",
      "POWR : 상승장\n",
      "LRC : 상승장\n",
      "GTO : 상승장\n",
      "STEEM : 상승장\n",
      "STRAT : 상승장\n",
      "ZRX : 상승장\n",
      "REP : 상승장\n",
      "AE : 상승장\n",
      "XEM : 상승장\n",
      "SNT : 상승장\n",
      "ADA : 상승장\n",
      "PPT : 상승장\n",
      "CTXC : 상승장\n",
      "CMT : 상승장\n",
      "THETA : 상승장\n",
      "WTC : 상승장\n",
      "ITC : 상승장\n",
      "TRUE : 상승장\n",
      "ABT : 상승장\n",
      "RNT : 상승장\n",
      "PLY : 상승장\n",
      "WAVES : 상승장\n",
      "LINK : 상승장\n",
      "ENJ : 상승장\n",
      "PST : 상승장\n",
      "SALT : 상승장\n",
      "RDN : 상승장\n",
      "LOOM : 상승장\n",
      "PIVX : 상승장\n",
      "INS : 상승장\n",
      "BCD : 상승장\n",
      "BZNT : 상승장\n",
      "XLM : 상승장\n",
      "OCN : 상승장\n",
      "BSV : 상승장\n",
      "TMTG : 상승장\n",
      "BAT : 상승장\n",
      "WET : 상승장\n",
      "XVG : 상승장\n",
      "IOST : 상승장\n",
      "POLY : 상승장\n",
      "HC : 상승장\n",
      "ROM : 하락장\n",
      "AMO : 상승장\n",
      "ETZ : 상승장\n",
      "ARN : 상승장\n",
      "APIS : 상승장\n",
      "MTL : 상승장\n",
      "DACC : 상승장\n",
      "DAC : 상승장\n",
      "BHP : 상승장\n",
      "BTT : 상승장\n",
      "HDAC : 상승장\n",
      "NPXS : 상승장\n",
      "AUTO : 상승장\n",
      "GXC : 상승장\n",
      "ORBS : 상승장\n",
      "VALOR : 상승장\n",
      "CON : 상승장\n",
      "ANKR : 상승장\n",
      "MIX : 상승장\n",
      "HYC : 상승장\n",
      "LBA : 상승장\n"
     ]
    }
   ],
   "source": [
    "for coin,price in data.items():\n",
    "    if coin != 'date':\n",
    "        fluc_price = float(price['max_price']) - float(price['min_price'])\n",
    "        if float(price['opening_price']) + fluc_price > float(price['max_price']):\n",
    "            print(f'{coin} : 상승장')\n",
    "        else:\n",
    "            print(f'{coin} : 하락장')"
   ]
  },
  {
   "cell_type": "markdown",
   "metadata": {},
   "source": [
    "# 평균점수\n",
    "> 다음 딕셔너리에서 평균 점수를 출력하라\n"
   ]
  },
  {
   "cell_type": "code",
   "execution_count": 3,
   "metadata": {},
   "outputs": [],
   "source": [
    "student = {'python' : 80, 'algorithm' : 78, 'django' : 95, 'flask' : 80}"
   ]
  },
  {
   "cell_type": "code",
   "execution_count": 4,
   "metadata": {
    "scrolled": false
   },
   "outputs": [
    {
     "name": "stdout",
     "output_type": "stream",
     "text": [
      "83.25\n"
     ]
    }
   ],
   "source": [
    "scores = 0\n",
    "for score in student.values():\n",
    "    scores += score\n",
    "print(scores / len(student.values()))"
   ]
  },
  {
   "cell_type": "code",
   "execution_count": 5,
   "metadata": {},
   "outputs": [
    {
     "data": {
      "text/plain": [
       "333"
      ]
     },
     "execution_count": 5,
     "metadata": {},
     "output_type": "execute_result"
    }
   ],
   "source": [
    "sum(student.values())"
   ]
  },
  {
   "cell_type": "code",
   "execution_count": 6,
   "metadata": {},
   "outputs": [
    {
     "data": {
      "text/plain": [
       "83.25"
      ]
     },
     "execution_count": 6,
     "metadata": {},
     "output_type": "execute_result"
    }
   ],
   "source": [
    "sum(student.values()) / len(student)"
   ]
  },
  {
   "cell_type": "markdown",
   "metadata": {},
   "source": [
    "# 혈액형\n",
    "> 학생들의 혈액형(A,B,O,AB)에 대한 데이터가 리스트에 들어있다. 각 혈액형이 몇명인지 딕셔너리를 만들어 출력하라"
   ]
  },
  {
   "cell_type": "code",
   "execution_count": 7,
   "metadata": {},
   "outputs": [],
   "source": [
    "blood = ['A','A','B','O','A','B','A','AB','AB','O','A','O','AB','O']"
   ]
  },
  {
   "cell_type": "code",
   "execution_count": 8,
   "metadata": {},
   "outputs": [
    {
     "name": "stdout",
     "output_type": "stream",
     "text": [
      "{'A': 5, 'B': 2, 'O': 4, 'AB': 3}\n"
     ]
    }
   ],
   "source": [
    "a = 0\n",
    "b = 0\n",
    "ab = 0\n",
    "o = 0\n",
    "\n",
    "for blood_type in blood:\n",
    "    if blood_type == 'A':\n",
    "        a += 1\n",
    "    elif blood_type == 'B':\n",
    "        b += 1    \n",
    "    elif blood_type == 'AB':\n",
    "        ab += 1\n",
    "    if blood_type == 'O':\n",
    "        o += 1\n",
    "print({'A': a, 'B': b, 'O': o, 'AB': ab})"
   ]
  },
  {
   "cell_type": "code",
   "execution_count": 9,
   "metadata": {},
   "outputs": [
    {
     "name": "stdout",
     "output_type": "stream",
     "text": [
      "{'A': 5, 'B': 2, 'O': 4, 'AB': 3}\n",
      "{'O': 4, 'A': 5, 'AB': 3, 'B': 2}\n",
      "{'A': 5, 'B': 2, 'O': 4, 'AB': 3}\n"
     ]
    }
   ],
   "source": [
    "blood_dict={x : blood.count(x) for x in blood}\n",
    "print(blood_dict)\n",
    "\n",
    "###\n",
    "\n",
    "bloodset= set(blood)\n",
    "blood_dict2 ={}\n",
    "for i in bloodset:\n",
    "    blood_dict2[i] = blood.count(i)\n",
    "print(blood_dict2)\n",
    "\n",
    "###\n",
    "\n",
    "blood_dict3 = {}\n",
    "\n",
    "# (반복)하나씩 꺼내 확인한다.\n",
    "for i in blood:\n",
    "    # 지금 나온적이 없으면, 키와 value 1로 만든다!\n",
    "    if i not in blood_dict3.keys():\n",
    "        blood_dict3[i] = 1\n",
    "    # 키가 있으면 value에 +1 해준다.\n",
    "    else:\n",
    "        blood_dict3[i] += 1\n",
    "print(blood_dict3)"
   ]
  },
  {
   "cell_type": "markdown",
   "metadata": {},
   "source": [
    "# UBD\n",
    "> movies는 영화제목이 key로 누적관객수가 value인 딕셔너리이다. \n",
    ">\n",
    "> 자전차왕 엄복동의 누적관객수는 172212명이고 172212명을 1UBD라고 할때 80UBD를 넘지 못하는 영화를 출력하라."
   ]
  },
  {
   "cell_type": "code",
   "execution_count": 10,
   "metadata": {},
   "outputs": [],
   "source": [
    "movies = {\n",
    "    \"7번방의선물\":12811206,\n",
    "    \"괴물\":13019740,\n",
    "    \"국제시장\":14257115,\n",
    "    \"극한직업\":16261018,\n",
    "    \"도둑들\":12983330,\n",
    "    \"명량\":17613682,\n",
    "    \"베테랑\":13414009,\n",
    "    \"신과함께-죄와벌\":14410754,\n",
    "    \"아바타\":13624328,\n",
    "    \"어벤져스:엔드게임\":13901423,\n",
    "}"
   ]
  },
  {
   "cell_type": "code",
   "execution_count": 11,
   "metadata": {},
   "outputs": [
    {
     "name": "stdout",
     "output_type": "stream",
     "text": [
      "7번방의선물\n",
      "괴물\n",
      "도둑들\n",
      "베테랑\n",
      "아바타\n"
     ]
    }
   ],
   "source": [
    "ubd = 172212\n",
    "for movie,num in movies.items():\n",
    "    if num <= 80 * ubd:\n",
    "        print(movie)"
   ]
  },
  {
   "cell_type": "code",
   "execution_count": null,
   "metadata": {},
   "outputs": [],
   "source": []
  }
 ],
 "metadata": {
  "kernelspec": {
   "display_name": "Python 3",
   "language": "python",
   "name": "python3"
  },
  "language_info": {
   "codemirror_mode": {
    "name": "ipython",
    "version": 3
   },
   "file_extension": ".py",
   "mimetype": "text/x-python",
   "name": "python",
   "nbconvert_exporter": "python",
   "pygments_lexer": "ipython3",
   "version": "3.7.3"
  },
  "toc": {
   "base_numbering": 1,
   "nav_menu": {},
   "number_sections": true,
   "sideBar": true,
   "skip_h1_title": false,
   "title_cell": "Table of Contents",
   "title_sidebar": "Contents",
   "toc_cell": false,
   "toc_position": {},
   "toc_section_display": true,
   "toc_window_display": false
  }
 },
 "nbformat": 4,
 "nbformat_minor": 2
}
